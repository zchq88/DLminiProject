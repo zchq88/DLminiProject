{
 "cells": [
  {
   "cell_type": "code",
   "execution_count": 1,
   "metadata": {
    "collapsed": false
   },
   "outputs": [],
   "source": [
    "import numpy as np\n",
    "#线性可分数据\n",
    "#AND data\n",
    "AND_inputs = [(0, 0), (0, 1), (1, 0), (1, 1)]\n",
    "AND_outputs = [0, 0, 0, 1]\n",
    "\n",
    "#OR data\n",
    "OR_inputs = [(0, 0), (0, 1), (1, 0), (1, 1)]\n",
    "OR_outputs = [0, 1, 1, 1]\n",
    "\n",
    "#NOT data\n",
    "NOT_inputs = [(0, 0), (0, 1), (1, 0), (1, 1)]\n",
    "NOT_outputs = [1, 0, 1, 0]\n",
    "\n",
    "#NOT2 data\n",
    "NOT2_inputs = [(0, 0), (0, 1), (1, 0), (1, 1)]\n",
    "NOT2_outputs = [0, 1, 0, 1]\n",
    "\n",
    "#线性不可分数据\n",
    "#XOR data\n",
    "XOR_inputs = [(0, 0), (0, 1), (1, 0), (1, 1)]\n",
    "XOR_outputs = [0, 1, 1, 0]\n",
    "\n",
    "#NOT XOR data\n",
    "XOR2_inputs = [(0, 0), (0, 1), (1, 0), (1, 1)]\n",
    "XOR2_outputs = [1, 0, 0,1]\n"
   ]
  },
  {
   "cell_type": "code",
   "execution_count": 2,
   "metadata": {
    "collapsed": false
   },
   "outputs": [],
   "source": [
    "class NeuralNetwork:\n",
    "    def __init__(self):\n",
    "        #np.random.seed(1)\n",
    "        self.w1=np.random.random(1)\n",
    "        self.w2=np.random.random(1)\n",
    "        self.b=np.random.random(1)\n",
    "    \n",
    "    def predict(self,inputs):\n",
    "        linear_combination = self.w1 * inputs[0] + self.w2 * inputs[1] + self.b\n",
    "        return int(linear_combination >= 0)\n",
    "    \n",
    "    def train(self,train_set_input,train_set_outputs,train_num=10000,train_lr=0.1):\n",
    "        for i in range(train_num):\n",
    "            num = i%4\n",
    "            output = self.predict(train_set_input[num])\n",
    "            error = output - train_set_outputs[num]\n",
    "            self.w1 -= train_lr * (train_set_input[num][0]) * error\n",
    "            self.w2 -= train_lr * (train_set_input[num][1]) * error\n",
    "            self.b -= train_lr * error\n",
    "            \n",
    "    def test(self,train_set_input,train_set_outputs):\n",
    "        right = 0\n",
    "        for i in range(len(train_set_input)):\n",
    "            #print('in1:{},in2:{},{}=={}'.format(train_set_input[i][0],train_set_input[i][1],self.predict(train_set_input[i]),train_set_outputs[i]))\n",
    "            if(self.predict(train_set_input[i])==train_set_outputs[i]):\n",
    "                right += 1                \n",
    "        return right/float(len(train_set_input))*100\n",
    "            \n",
    "    \n",
    "    def print_w_b(self):\n",
    "        print('w1:{},w2:{},b:{}'.format(self.w1,self.w2,self.b))"
   ]
  },
  {
   "cell_type": "code",
   "execution_count": 3,
   "metadata": {
    "collapsed": false
   },
   "outputs": [
    {
     "name": "stdout",
     "output_type": "stream",
     "text": [
      "before train\n",
      "w1:[ 0.57667911],w2:[ 0.99037969],b:[ 0.79751145]\n",
      "50.0\n",
      "after train\n",
      "w1:[-0.02332089],w2:[-0.20962031],b:[ 0.09751145]\n",
      "50.0\n"
     ]
    }
   ],
   "source": [
    "NN = NeuralNetwork()\n",
    "print('before train')\n",
    "NN.print_w_b()\n",
    "print(NN.test(XOR_inputs,XOR_outputs))\n",
    "NN.train(NOT_inputs,NOT_outputs)\n",
    "print('after train')\n",
    "NN.print_w_b()\n",
    "print(NN.test(XOR_inputs,XOR_outputs))"
   ]
  },
  {
   "cell_type": "code",
   "execution_count": 4,
   "metadata": {
    "collapsed": false,
    "scrolled": true
   },
   "outputs": [
    {
     "name": "stdout",
     "output_type": "stream",
     "text": [
      "100.0\n",
      "100.0\n",
      "100.0\n",
      "100.0\n",
      "不可线性分割所以训练不到100\n",
      "25.0\n",
      "50.0\n"
     ]
    }
   ],
   "source": [
    "AND_NN = NeuralNetwork()\n",
    "AND_NN.train(AND_inputs,AND_outputs)\n",
    "print(AND_NN.test(AND_inputs,AND_outputs))\n",
    "\n",
    "\n",
    "OR_NN = NeuralNetwork()\n",
    "OR_NN.train(OR_inputs,OR_outputs)\n",
    "print(OR_NN.test(OR_inputs,OR_outputs))\n",
    "\n",
    "\n",
    "NOT_NN = NeuralNetwork()\n",
    "NOT_NN.train(NOT_inputs,NOT_outputs)\n",
    "print(NOT_NN.test(NOT_inputs,NOT_outputs))\n",
    "\n",
    "NOT2_NN = NeuralNetwork()\n",
    "NOT2_NN.train(NOT2_inputs,NOT2_outputs)\n",
    "print(NOT2_NN.test(NOT2_inputs,NOT2_outputs))\n",
    "\n",
    "print('不可线性分割所以训练不到100')\n",
    "XOR_NN = NeuralNetwork()\n",
    "XOR_NN.train(XOR_inputs,XOR_outputs)\n",
    "print(XOR_NN.test(XOR_inputs,XOR_outputs))\n",
    "\n",
    "XOR2_NN = NeuralNetwork()\n",
    "XOR2_NN.train(XOR2_inputs,XOR2_outputs)\n",
    "print(XOR2_NN.test(XOR2_inputs,XOR2_outputs))"
   ]
  }
 ],
 "metadata": {
  "kernelspec": {
   "display_name": "Python 3",
   "language": "python",
   "name": "python3"
  },
  "language_info": {
   "codemirror_mode": {
    "name": "ipython",
    "version": 3
   },
   "file_extension": ".py",
   "mimetype": "text/x-python",
   "name": "python",
   "nbconvert_exporter": "python",
   "pygments_lexer": "ipython3",
   "version": "3.6.0"
  }
 },
 "nbformat": 4,
 "nbformat_minor": 2
}
